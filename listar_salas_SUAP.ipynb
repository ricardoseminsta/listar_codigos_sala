{
 "cells": [
  {
   "cell_type": "code",
   "execution_count": null,
   "id": "f3584231",
   "metadata": {},
   "outputs": [],
   "source": [
    "import pandas as pd\n",
    "\n",
    "autentica = pd.read_excel('ls.xlsx')\n",
    "\n",
    "login = str(autentica['login'][0])\n",
    "senha = str(autentica['senha'][0])\n",
    "\n"
   ]
  },
  {
   "cell_type": "code",
   "execution_count": null,
   "id": "e7f20583",
   "metadata": {},
   "outputs": [],
   "source": [
    "from selenium import webdriver\n",
    "from selenium.webdriver.common.keys import Keys\n",
    "from selenium.webdriver.support.ui import Select\n",
    "import time\n",
    "\n",
    "\n",
    "\n",
    "def abrir_suap():\n",
    "    \n",
    "    global nav\n",
    "    nav = webdriver.Chrome()\n",
    "    nav.get(\"https://suap.ifpe.edu.br/accounts/login/?next=/\")\n",
    "    # inserindo usuário\n",
    "    nav.find_element_by_xpath('//*[@id=\"id_username\"]').click()\n",
    "    nav.find_element_by_xpath('//*[@id=\"id_username\"]').send_keys(login)\n",
    "\n",
    "    # inserindo senha \n",
    "    nav.find_element_by_xpath('//*[@id=\"id_password\"]').click()\n",
    "    nav.find_element_by_xpath('//*[@id=\"id_password\"]').send_keys(senha)\n",
    "\n",
    "    nav.find_element_by_xpath('//*[@id=\"ok\"]').click()\n",
    "\n",
    "    \n",
    "abrir_suap()\n"
   ]
  },
  {
   "cell_type": "code",
   "execution_count": null,
   "id": "27f494a3",
   "metadata": {},
   "outputs": [],
   "source": [
    "opcoes = []\n",
    "valores = []\n",
    "\n",
    "def varrer_cb_sala():\n",
    "    \n",
    "    #abrir_suap()\n",
    "    #nav.find_element_by_link_text(\"Buscar Inventários\").click()\n",
    "    \n",
    "    valor_sala = nav.find_element_by_id('id_sala')\n",
    "    options = [x for x in valor_sala.find_elements_by_tag_name('option')]\n",
    "    \n",
    "    for i in options:\n",
    "        print(i.get_attribute('value')+\" \"+i.text)\n",
    "        opcoes.append(i.text)\n",
    "        valores.append(i.get_attribute('value'))\n",
    "    \n",
    "varrer_cb_sala()"
   ]
  },
  {
   "cell_type": "code",
   "execution_count": null,
   "id": "fab802a9",
   "metadata": {},
   "outputs": [],
   "source": [
    "lista_salas = pd.DataFrame()\n",
    "\n",
    "lista_salas['values'] = valores\n",
    "lista_salas['salas'] = opcoes\n",
    "display(lista_salas)"
   ]
  },
  {
   "cell_type": "code",
   "execution_count": null,
   "id": "d66fea51",
   "metadata": {},
   "outputs": [],
   "source": [
    "lista_cafi = lista_salas[lista_salas['salas'].str.contains('CAFI')]\n",
    "display(lista_cafi)"
   ]
  },
  {
   "cell_type": "code",
   "execution_count": null,
   "id": "dfd0e2cf",
   "metadata": {},
   "outputs": [],
   "source": [
    "lista_cafi.to_excel('lista_salas_cafi.xlsx', index=False)"
   ]
  }
 ],
 "metadata": {
  "kernelspec": {
   "display_name": "Python 3",
   "language": "python",
   "name": "python3"
  },
  "language_info": {
   "codemirror_mode": {
    "name": "ipython",
    "version": 3
   },
   "file_extension": ".py",
   "mimetype": "text/x-python",
   "name": "python",
   "nbconvert_exporter": "python",
   "pygments_lexer": "ipython3",
   "version": "3.8.8"
  }
 },
 "nbformat": 4,
 "nbformat_minor": 5
}
